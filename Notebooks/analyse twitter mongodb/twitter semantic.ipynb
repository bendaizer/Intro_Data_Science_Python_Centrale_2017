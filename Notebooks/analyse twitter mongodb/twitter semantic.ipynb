{
 "cells": [
  {
   "cell_type": "markdown",
   "metadata": {},
   "source": [
    "Pour pouvoir faire tourner ce code, il faut installer en plus les modules :\n",
    "- pymongo\n",
    "- tweepy\n",
    "- textblob\n",
    "- textblob_fr\n",
    "\n",
    "Normalement, ils sont tous disponibles à travers la commande  \n",
    "`pip install nom_du_module`\n",
    "\n",
    "Il faut également lancer mongodb (à travers kitematic ou un docker ici) et utiliser le script `tweepy_save.py` pour remplir la base de données avec quelques tweets.\n",
    "\n",
    "Pour que le script fonctionne, il faut s'inscrire à l'API public de twitter (https://apps.twitter.com/) pour pouvoir remplir les champs suivants :\n",
    "\n",
    "```\n",
    "consumer_key = \"\" \n",
    "consumer_secret = \"\"  \n",
    "access_token = \"\"  \n",
    "access_token_secret = \"\"  \n",
    "```\n",
    "\n",
    "Voir ici par exemple :https://iag.me/socialmedia/how-to-create-a-twitter-app-in-8-easy-steps/\n",
    "\n",
    "Pour ceux qui souhaitent expérimenter l'API twitter, la documentation de tweepy est disponible ici :\n",
    "http://docs.tweepy.org/en/v3.5.0/getting_started.html\n",
    "\n",
    "Veuillez noter que le code ci-dessous est fourni à titre d'expérimentation, et n'est pas optimisé de quelque manière que ce soit !"
   ]
  },
  {
   "cell_type": "code",
   "execution_count": 54,
   "metadata": {
    "collapsed": false
   },
   "outputs": [],
   "source": [
    "from pymongo import MongoClient"
   ]
  },
  {
   "cell_type": "code",
   "execution_count": 55,
   "metadata": {
    "collapsed": true
   },
   "outputs": [],
   "source": [
    "mongo_server = \"192.168.99.100\"\n",
    "mongo_port = 32768\n",
    "client = MongoClient(mongo_server, mongo_port)"
   ]
  },
  {
   "cell_type": "code",
   "execution_count": 56,
   "metadata": {
    "collapsed": true
   },
   "outputs": [],
   "source": [
    "db = client['twitter_db']\n",
    "collection = db['twitter_collection']"
   ]
  },
  {
   "cell_type": "code",
   "execution_count": 57,
   "metadata": {
    "collapsed": false,
    "scrolled": true
   },
   "outputs": [
    {
     "name": "stdout",
     "output_type": "stream",
     "text": [
      "{'_id': ObjectId('59e05acda56ff63cc06dffd7'),\n",
      " 'contributors': None,\n",
      " 'coordinates': None,\n",
      " 'created_at': 'Fri Oct 13 06:18:30 +0000 2017',\n",
      " 'entities': {'hashtags': [{'indices': [50, 58], 'text': 'startup'},\n",
      "                           {'indices': [101, 109], 'text': 'funding'},\n",
      "                           {'indices': [110, 115], 'text': 'news'}],\n",
      "              'symbols': [],\n",
      "              'urls': [{'display_url': 'startnexcel.com/blog/thirdwatc…',\n",
      "                        'expanded_url': 'http://startnexcel.com/blog/thirdwatch-data-pvt-ltd-an-ai-powered-anti-fraud-solutions-startup-got-seed-funding-from-ian-others/',\n",
      "                        'indices': [117, 140],\n",
      "                        'url': 'https://t.co/WZ4324PZVf'}],\n",
      "              'user_mentions': [{'id': 777811697729802241,\n",
      "                                 'id_str': '777811697729802241',\n",
      "                                 'indices': [0, 13],\n",
      "                                 'name': 'ThirdWatch',\n",
      "                                 'screen_name': 'thirdwatchai'},\n",
      "                                {'id': 97415226,\n",
      "                                 'id_str': '97415226',\n",
      "                                 'indices': [81, 91],\n",
      "                                 'name': 'Indian Angel Network',\n",
      "                                 'screen_name': 'ianetwork'}]},\n",
      " 'favorite_count': 0,\n",
      " 'favorited': False,\n",
      " 'geo': None,\n",
      " 'id': 918722597138792448,\n",
      " 'id_str': '918722597138792448',\n",
      " 'in_reply_to_screen_name': 'thirdwatchai',\n",
      " 'in_reply_to_status_id': None,\n",
      " 'in_reply_to_status_id_str': None,\n",
      " 'in_reply_to_user_id': 777811697729802241,\n",
      " 'in_reply_to_user_id_str': '777811697729802241',\n",
      " 'is_quote_status': False,\n",
      " 'lang': 'en',\n",
      " 'metadata': {'iso_language_code': 'en', 'result_type': 'recent'},\n",
      " 'place': None,\n",
      " 'possibly_sensitive': False,\n",
      " 'retweet_count': 0,\n",
      " 'retweeted': False,\n",
      " 'source': '<a href=\"http://twitter.com\" rel=\"nofollow\">Twitter Web Client</a>',\n",
      " 'text': '@thirdwatchai, an AI-powered anti-fraud solutions #startup got seed '\n",
      "         'funding from @ianetwork, others\\n'\n",
      "         '\\n'\n",
      "         '#funding #news\\n'\n",
      "         '\\n'\n",
      "         'https://t.co/WZ4324PZVf',\n",
      " 'truncated': False,\n",
      " 'user': {'contributors_enabled': False,\n",
      "          'created_at': 'Wed Aug 03 10:29:42 +0000 2016',\n",
      "          'default_profile': False,\n",
      "          'default_profile_image': False,\n",
      "          'description': 'Start-n-Excel is an initiative by @VelozTechForm to '\n",
      "                         'build an online community of #StartUps and the '\n",
      "                         'supporting Service Providers.',\n",
      "          'entities': {'description': {'urls': []},\n",
      "                       'url': {'urls': [{'display_url': 'startnexcel.com',\n",
      "                                         'expanded_url': 'http://startnexcel.com',\n",
      "                                         'indices': [0, 23],\n",
      "                                         'url': 'https://t.co/h9K9BxL59V'}]}},\n",
      "          'favourites_count': 5847,\n",
      "          'follow_request_sent': False,\n",
      "          'followers_count': 1346,\n",
      "          'following': False,\n",
      "          'friends_count': 1479,\n",
      "          'geo_enabled': True,\n",
      "          'has_extended_profile': False,\n",
      "          'id': 760784704190619651,\n",
      "          'id_str': '760784704190619651',\n",
      "          'is_translation_enabled': False,\n",
      "          'is_translator': False,\n",
      "          'lang': 'en',\n",
      "          'listed_count': 203,\n",
      "          'location': 'Ahmadabad, India',\n",
      "          'name': 'Start-n-Excel',\n",
      "          'notifications': False,\n",
      "          'profile_background_color': '000000',\n",
      "          'profile_background_image_url': 'http://abs.twimg.com/images/themes/theme1/bg.png',\n",
      "          'profile_background_image_url_https': 'https://abs.twimg.com/images/themes/theme1/bg.png',\n",
      "          'profile_background_tile': False,\n",
      "          'profile_banner_url': 'https://pbs.twimg.com/profile_banners/760784704190619651/1502883312',\n",
      "          'profile_image_url': 'http://pbs.twimg.com/profile_images/875586842661277699/lSMVwo5V_normal.jpg',\n",
      "          'profile_image_url_https': 'https://pbs.twimg.com/profile_images/875586842661277699/lSMVwo5V_normal.jpg',\n",
      "          'profile_link_color': '072947',\n",
      "          'profile_sidebar_border_color': '000000',\n",
      "          'profile_sidebar_fill_color': '000000',\n",
      "          'profile_text_color': '000000',\n",
      "          'profile_use_background_image': False,\n",
      "          'protected': False,\n",
      "          'screen_name': 'StartNExcel',\n",
      "          'statuses_count': 1391,\n",
      "          'time_zone': 'Pacific Time (US & Canada)',\n",
      "          'translator_type': 'none',\n",
      "          'url': 'https://t.co/h9K9BxL59V',\n",
      "          'utc_offset': -25200,\n",
      "          'verified': False}}\n"
     ]
    }
   ],
   "source": [
    "from pprint import pprint #pretty print\n",
    "tweet = collection.find_one()\n",
    "pprint(tweet)"
   ]
  },
  {
   "cell_type": "code",
   "execution_count": 58,
   "metadata": {
    "collapsed": false
   },
   "outputs": [
    {
     "data": {
      "text/plain": [
       "dict_keys(['_id', 'created_at', 'id', 'id_str', 'text', 'truncated', 'entities', 'metadata', 'source', 'in_reply_to_status_id', 'in_reply_to_status_id_str', 'in_reply_to_user_id', 'in_reply_to_user_id_str', 'in_reply_to_screen_name', 'user', 'geo', 'coordinates', 'place', 'contributors', 'is_quote_status', 'retweet_count', 'favorite_count', 'favorited', 'retweeted', 'possibly_sensitive', 'lang'])"
      ]
     },
     "execution_count": 58,
     "metadata": {},
     "output_type": "execute_result"
    }
   ],
   "source": [
    "tweet.keys()"
   ]
  },
  {
   "cell_type": "code",
   "execution_count": 59,
   "metadata": {
    "collapsed": false
   },
   "outputs": [
    {
     "data": {
      "text/plain": [
       "'@thirdwatchai, an AI-powered anti-fraud solutions #startup got seed funding from @ianetwork, others\\n\\n#funding #news\\n\\nhttps://t.co/WZ4324PZVf'"
      ]
     },
     "execution_count": 59,
     "metadata": {},
     "output_type": "execute_result"
    }
   ],
   "source": [
    "tweet[\"text\"]"
   ]
  },
  {
   "cell_type": "code",
   "execution_count": 60,
   "metadata": {
    "collapsed": false
   },
   "outputs": [],
   "source": [
    "from textblob import Blobber\n",
    "from textblob_fr import PatternTagger, PatternAnalyzer\n",
    "tb = Blobber(pos_tagger=PatternTagger(), analyzer=PatternAnalyzer())"
   ]
  },
  {
   "cell_type": "code",
   "execution_count": 61,
   "metadata": {
    "collapsed": false
   },
   "outputs": [],
   "source": [
    "from nltk.tokenize import word_tokenize\n",
    "from nltk import bigrams\n",
    "\n",
    "import re\n",
    " \n",
    "emoticons_str = r\"\"\"\n",
    "    (?:\n",
    "        [:=;] # Eyes\n",
    "        [oO\\-]? # Nose (optional)\n",
    "        [D\\)\\]\\(\\]/\\\\OpP] # Mouth\n",
    "    )\"\"\"\n",
    " \n",
    "regex_str = [\n",
    "    emoticons_str,\n",
    "    r'<[^>]+>', # HTML tags\n",
    "    r'(?:@[\\w_]+)', # @-mentions\n",
    "    r\"(?:\\#+[\\w_]+[\\w\\'_\\-]*[\\w_]+)\", # hash-tags\n",
    "    r'http[s]?://(?:[a-z]|[0-9]|[$-_@.&amp;+]|[!*\\(\\),]|(?:%[0-9a-f][0-9a-f]))+', # URLs\n",
    " \n",
    "    r'(?:(?:\\d+,?)+(?:\\.?\\d+)?)', # numbers\n",
    "    r\"(?:[a-z][a-z'\\-_]+[a-z])\", # words with - and '\n",
    "    r'(?:[\\w_]+)', # other words\n",
    "    r'(?:\\S)' # anything else\n",
    "]\n",
    "    \n",
    "tokens_re = re.compile(r'('+'|'.join(regex_str)+')', re.VERBOSE | re.IGNORECASE)\n",
    "emoticon_re = re.compile(r'^'+emoticons_str+'$', re.VERBOSE | re.IGNORECASE)\n",
    " \n",
    "def tokenize(s):\n",
    "    return tokens_re.findall(s)\n",
    " \n",
    "def preprocess(s, lowercase=False):\n",
    "    tokens = tokenize(s)\n",
    "    if lowercase:\n",
    "        tokens = [token if emoticon_re.search(token) else token.lower() for token in tokens]\n",
    "    return tokens"
   ]
  },
  {
   "cell_type": "code",
   "execution_count": 62,
   "metadata": {
    "collapsed": true
   },
   "outputs": [],
   "source": [
    "cursor = collection.find({'lang':'en'})\n",
    "tweets = []\n",
    "for document in cursor:\n",
    "    tweets.append(preprocess(document[\"text\"]))"
   ]
  },
  {
   "cell_type": "code",
   "execution_count": 63,
   "metadata": {
    "collapsed": false
   },
   "outputs": [
    {
     "data": {
      "text/plain": [
       "1769"
      ]
     },
     "execution_count": 63,
     "metadata": {},
     "output_type": "execute_result"
    }
   ],
   "source": [
    "len(tweets)"
   ]
  },
  {
   "cell_type": "code",
   "execution_count": 70,
   "metadata": {
    "collapsed": false
   },
   "outputs": [],
   "source": [
    "tweets = [' '.join(doc) for doc in tweets]"
   ]
  },
  {
   "cell_type": "code",
   "execution_count": 65,
   "metadata": {
    "collapsed": false
   },
   "outputs": [],
   "source": [
    "from sklearn.feature_extraction.text import TfidfVectorizer, TfidfTransformer\n",
    "#tf_transformer = TfidfTransformer().fit(tweets)\n",
    "vectorizer = TfidfVectorizer(max_df=0.5, min_df=2, stop_words='english')"
   ]
  },
  {
   "cell_type": "code",
   "execution_count": 71,
   "metadata": {
    "collapsed": false
   },
   "outputs": [
    {
     "data": {
      "text/plain": [
       "<1769x1989 sparse matrix of type '<class 'numpy.float64'>'\n",
       "\twith 10467 stored elements in Compressed Sparse Row format>"
      ]
     },
     "execution_count": 71,
     "metadata": {},
     "output_type": "execute_result"
    }
   ],
   "source": [
    "vectorizer.fit_transform(tweets)"
   ]
  },
  {
   "cell_type": "code",
   "execution_count": 74,
   "metadata": {
    "collapsed": false,
    "scrolled": true
   },
   "outputs": [],
   "source": [
    "X = vectorizer.fit_transform(tweets)"
   ]
  },
  {
   "cell_type": "code",
   "execution_count": 75,
   "metadata": {
    "collapsed": false
   },
   "outputs": [],
   "source": [
    "from sklearn.decomposition import TruncatedSVD\n",
    "from sklearn.preprocessing import Normalizer\n",
    "from sklearn.pipeline import make_pipeline\n",
    "\n",
    "svd = TruncatedSVD(50)\n",
    "normalizer = Normalizer(copy=False)\n",
    "lsa = make_pipeline(svd, normalizer)\n",
    "\n",
    "X = lsa.fit_transform(X)"
   ]
  },
  {
   "cell_type": "code",
   "execution_count": 76,
   "metadata": {
    "collapsed": true
   },
   "outputs": [],
   "source": [
    "from sklearn.cluster import KMeans, MiniBatchKMeans\n",
    "k = 10\n",
    "km = KMeans(n_clusters=k, init='k-means++', max_iter=100, n_init=1,\n",
    "                verbose=False)"
   ]
  },
  {
   "cell_type": "code",
   "execution_count": 77,
   "metadata": {
    "collapsed": false
   },
   "outputs": [
    {
     "data": {
      "text/plain": [
       "KMeans(algorithm='auto', copy_x=True, init='k-means++', max_iter=100,\n",
       "    n_clusters=10, n_init=1, n_jobs=1, precompute_distances='auto',\n",
       "    random_state=None, tol=0.0001, verbose=False)"
      ]
     },
     "execution_count": 77,
     "metadata": {},
     "output_type": "execute_result"
    }
   ],
   "source": [
    "km.fit(X)"
   ]
  },
  {
   "cell_type": "code",
   "execution_count": 78,
   "metadata": {
    "collapsed": false
   },
   "outputs": [
    {
     "name": "stdout",
     "output_type": "stream",
     "text": [
      "0\n",
      "amp\n",
      "tech\n",
      "robotics\n",
      "solutions\n",
      "release\n",
      "art\n",
      "alliance\n",
      "blue_prism\n",
      "form\n",
      "clients\n",
      "1\n",
      "mailonline\n",
      "weinstein\n",
      "harvey\n",
      "calls\n",
      "emma\n",
      "thompson\n",
      "predator\n",
      "delhi\n",
      "police\n",
      "sex\n",
      "2\n",
      "intelligence\n",
      "artificial\n",
      "human\n",
      "future\n",
      "time\n",
      "work\n",
      "saving\n",
      "technology\n",
      "doctors\n",
      "patients\n",
      "3\n",
      "know\n",
      "world\n",
      "tech\n",
      "need\n",
      "data\n",
      "business\n",
      "don\n",
      "big\n",
      "china\n",
      "fintech\n",
      "4\n",
      "use\n",
      "learning\n",
      "using\n",
      "technology\n",
      "microsoft\n",
      "amazon\n",
      "google\n",
      "news\n",
      "cloud\n",
      "twitter\n",
      "5\n",
      "iot\n",
      "bigdata\n",
      "machinelearning\n",
      "ml\n",
      "deeplearning\n",
      "datascience\n",
      "dl\n",
      "artificialintelligence\n",
      "vr\n",
      "fintech\n",
      "6\n",
      "love\n",
      "lol\n",
      "make\n",
      "really\n",
      "machinelearning\n",
      "mailonline\n",
      "chatbot\n",
      "youtube\n",
      "business\n",
      "stop\n",
      "7\n",
      "like\n",
      "video\n",
      "youtube\n",
      "don\n",
      "launches\n",
      "mailonline\n",
      "liked\n",
      "good\n",
      "facebook\n",
      "analysis\n",
      "8\n",
      "just\n",
      "united\n",
      "gt\n",
      "manchester\n",
      "liverpool\n",
      "mailsport\n",
      "old\n",
      "brexit\n",
      "mailonline\n",
      "mumbai\n",
      "9\n",
      "new\n",
      "google\n",
      "god\n",
      "china\n",
      "apple\n",
      "face\n",
      "box\n",
      "robots\n",
      "post\n",
      "needed\n"
     ]
    }
   ],
   "source": [
    "original_space_centroids = svd.inverse_transform(km.cluster_centers_)\n",
    "order_centroids = original_space_centroids.argsort()[:, ::-1]\n",
    "\n",
    "terms = vectorizer.get_feature_names()\n",
    "\n",
    "for i in range(k):\n",
    "    print(i)\n",
    "    for ind in order_centroids[i, :10]:\n",
    "        print(terms[ind])"
   ]
  }
 ],
 "metadata": {
  "kernelspec": {
   "display_name": "Python 3",
   "language": "python",
   "name": "python3"
  },
  "language_info": {
   "codemirror_mode": {
    "name": "ipython",
    "version": 3
   },
   "file_extension": ".py",
   "mimetype": "text/x-python",
   "name": "python",
   "nbconvert_exporter": "python",
   "pygments_lexer": "ipython3",
   "version": "3.6.0"
  }
 },
 "nbformat": 4,
 "nbformat_minor": 0
}
